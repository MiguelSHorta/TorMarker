{
 "cells": [
  {
   "cell_type": "code",
   "execution_count": 1,
   "id": "f5891b86",
   "metadata": {
    "scrolled": false
   },
   "outputs": [
    {
     "name": "stdout",
     "output_type": "stream",
     "text": [
      "0\n",
      "[name: \"/device:CPU:0\"\n",
      "device_type: \"CPU\"\n",
      "memory_limit: 268435456\n",
      "locality {\n",
      "}\n",
      "incarnation: 4129374754674355753\n",
      ", name: \"/device:GPU:0\"\n",
      "device_type: \"GPU\"\n",
      "memory_limit: 6290407424\n",
      "locality {\n",
      "  bus_id: 1\n",
      "  links {\n",
      "  }\n",
      "}\n",
      "incarnation: 3238188444203119072\n",
      "physical_device_desc: \"device: 0, name: NVIDIA GeForce RTX 2070, pci bus id: 0000:29:00.0, compute capability: 7.5\"\n",
      "]\n",
      "2.6.2\n",
      "[PhysicalDevice(name='/physical_device:GPU:0', device_type='GPU')]\n"
     ]
    }
   ],
   "source": [
    "import tensorflow as tf\n",
    "import time\n",
    "def curTime():\n",
    "    return round(time.time() * 1000)\n",
    "print(28500 % 150)\n",
    "\n",
    "from tensorflow.python.client import device_lib\n",
    "print(device_lib.list_local_devices())\n",
    "print(tf.__version__)\n",
    "print(tf.config.list_physical_devices('GPU'))"
   ]
  },
  {
   "cell_type": "code",
   "execution_count": 2,
   "id": "6c5854e4",
   "metadata": {},
   "outputs": [
    {
     "name": "stdout",
     "output_type": "stream",
     "text": [
      "((276,), (92,))\n"
     ]
    },
    {
     "name": "stderr",
     "output_type": "stream",
     "text": [
      "100%|██████████| 368/368 [00:00<00:00, 686.98it/s]"
     ]
    },
    {
     "name": "stdout",
     "output_type": "stream",
     "text": [
      "(368, 1, 150, 1)\n"
     ]
    },
    {
     "name": "stderr",
     "output_type": "stream",
     "text": [
      "\n"
     ]
    }
   ],
   "source": [
    "# Extracting datasets to input matrix\n",
    "import numpy as np\n",
    "import pandas as pd\n",
    "from tqdm import tqdm\n",
    "import random\n",
    "\n",
    "\n",
    "\n",
    "dataset_size = 28000\n",
    "pred_dataset_size = 7500\n",
    "\n",
    "flow_size = 150\n",
    "number_flows = int(dataset_size/flow_size) -2 #substract 2 so first two flows are ignored\n",
    "pred_number_flows = int(pred_dataset_size/flow_size) - 2\n",
    "seed=2\n",
    "val=0 # For spliting number of flows for training .csv in training and test\n",
    "# paths\n",
    "watermarked_flows = pd.read_csv('caps/TirSkypeTrainBuf50Icbw120.csv', usecols=['Time']) # 28787\n",
    "regular_flows = pd.read_csv('caps/TirSkypeTrainBuf50none.csv', usecols=['Time']) # 45000\n",
    "watermarked_flows_prediction = pd.read_csv('caps/TirSkypeTestBuf50Icbw120.csv', usecols=['Time']) # 10109\n",
    "regular_flows_prediction = pd.read_csv('caps/TirSkypeTestBuf50none.csv', usecols=['Time']) # 8981\n",
    "\n",
    "\n",
    "\n",
    "features = np.zeros((number_flows*2, 1, flow_size, 1))\n",
    "classes = np.zeros(features.shape[0])\n",
    "indexes = np.arange(features.shape[0])\n",
    "\n",
    "# random.Random(seed).shuffle(indexes) # Consistent randomization\n",
    "random.Random(3).shuffle(indexes) # Inconsistent randomization\n",
    "\n",
    "from sklearn.model_selection import StratifiedKFold\n",
    "skf = StratifiedKFold(n_splits=4, shuffle=True)\n",
    "for train_indexes,valid_indexes in skf.split(features, classes):\n",
    "    break\n",
    "    \n",
    "print((train_indexes.shape, valid_indexes.shape))    \n",
    "    \n",
    "\n",
    "def outlier(delay):\n",
    "    return delay if delay < 5000 else 100\n",
    "\n",
    "    \n",
    "watermarked_index = flow_size;\n",
    "regular_index = flow_size;\n",
    "for flow_index in tqdm(range(0, number_flows*2)):      #changed range to start from 0 so first two flows are ignored\n",
    "    if flow_index%2==0:\n",
    "        classes[flow_index]=1\n",
    "        for i in range(flow_size):  \n",
    "            features[flow_index,0,i]=outlier((watermarked_flows['Time'][watermarked_index]-watermarked_flows['Time'][watermarked_index-1])*1000)\n",
    "            watermarked_index+=1\n",
    "    else:\n",
    "        classes[flow_index]=0\n",
    "        for i in range(flow_size):\n",
    "            features[flow_index,0,i]=outlier((regular_flows['Time'][regular_index]-regular_flows['Time'][regular_index-1])*1000)\n",
    "            regular_index+=1\n",
    "    \n",
    "\n",
    "print(features.shape)"
   ]
  },
  {
   "cell_type": "code",
   "execution_count": 3,
   "id": "d4cf5d1c",
   "metadata": {},
   "outputs": [],
   "source": [
    "#         ================================================================================================\n",
    "#         ======================================== Model of the CNN ======================================\n",
    "#         ================================================================================================\n",
    "\n",
    "\n",
    "import tensorflow as tf\n",
    "\n",
    "from tensorflow.keras import Sequential\n",
    "from tensorflow.keras.layers import (Layer, Dense, Conv2D, MaxPool2D, Dropout, Flatten,\n",
    "                                     GlobalAveragePooling2D, ZeroPadding2D)\n",
    "\n",
    "\n",
    "kernel_size = ([1, 10], [1, 10])\n",
    "filters = (500, 100)\n",
    "\n",
    "model = Sequential()\n",
    "model.add(Conv2D(filters=filters[0], kernel_size=kernel_size[0], strides=(1,1), activation='relu'))\n",
    "model.add(MaxPool2D([1,5]))\n",
    "model.add(Conv2D(filters=filters[1], kernel_size=kernel_size[1], strides=(1,1), activation='relu'))\n",
    "model.add(MaxPool2D([1,5]))\n",
    "model.add(Flatten())\n",
    "\n",
    "model.add(Dense(units=3000, activation='relu'))\n",
    "model.add(Dropout(0.6))\n",
    "\n",
    "model.add(Dense(units=800, activation='relu'))\n",
    "model.add(Dropout(0.6))\n",
    "\n",
    "model.add(Dense(units=100, activation='relu'))\n",
    "model.add(Dense(units=1, activation='sigmoid'))"
   ]
  },
  {
   "cell_type": "code",
   "execution_count": null,
   "id": "d9deb5f3",
   "metadata": {
    "scrolled": true
   },
   "outputs": [],
   "source": [
    "#         ================================================================================================\n",
    "#         ======================================== Training ==============================================\n",
    "#         ================================================================================================\n",
    "\n",
    "\n",
    "from sklearn.model_selection import StratifiedKFold\n",
    "from tensorflow.keras.callbacks import EarlyStopping\n",
    "from tensorflow.keras.optimizers import Adam\n",
    "learning_rate = 0.0001\n",
    "batch_size=256\n",
    "epochs=150\n",
    "loss = 'binary_crossentropy'\n",
    "callback = EarlyStopping(monitor='val_loss', patience = 50)\n",
    "\n",
    "optimizer=Adam(learning_rate=learning_rate)\n",
    "model.compile(optimizer = optimizer, loss=loss, metrics=['binary_accuracy'])\n",
    "timestamp1 = curTime()\n",
    "history = model.fit(features[train_indexes[val:]], classes[train_indexes[val:]], validation_data=(features[valid_indexes],classes[valid_indexes]), batch_size=batch_size, epochs=epochs, callbacks=[callback])"
   ]
  },
  {
   "cell_type": "code",
   "execution_count": 5,
   "id": "6a364a3c",
   "metadata": {},
   "outputs": [
    {
     "name": "stderr",
     "output_type": "stream",
     "text": [
      "100%|██████████| 96/96 [00:00<00:00, 676.58it/s]\n"
     ]
    },
    {
     "name": "stdout",
     "output_type": "stream",
     "text": [
      "('TEST', 276, (92,), (96,))\n",
      "FPS|TPR|BINARY-ACC\n",
      "[0.0417 0.7292 0.8438]\n"
     ]
    }
   ],
   "source": [
    "#         ================================================================================================\n",
    "#         ======================================== Testing ==============================================\n",
    "#         ================================================================================================\n",
    "\n",
    "timestamp2 = curTime()\n",
    "\n",
    "features_prediction = np.zeros((pred_number_flows*2, 1, flow_size, 1))\n",
    "classes_prediction = np.zeros(features_prediction.shape[0])\n",
    "\n",
    "pred_watermarked_index = flow_size;\n",
    "pred_regular_index = flow_size;\n",
    "for flow_index in tqdm(range(0, pred_number_flows*2)):      #changed range to start from 0 so first two flows are ignored\n",
    "    if flow_index%2==0:\n",
    "        classes_prediction[flow_index]=1\n",
    "        for i in range(flow_size):  \n",
    "            features_prediction[flow_index,0,i]=outlier((watermarked_flows_prediction['Time'][pred_watermarked_index]-watermarked_flows_prediction['Time'][pred_watermarked_index-1])*1000)\n",
    "            pred_watermarked_index+=1\n",
    "    else:\n",
    "        classes_prediction[flow_index]=0\n",
    "        for i in range(flow_size):\n",
    "            features_prediction[flow_index,0,i]=outlier((regular_flows_prediction['Time'][pred_regular_index]-regular_flows_prediction['Time'][pred_regular_index-1])*1000)\n",
    "            pred_regular_index+=1\n",
    "\n",
    "\n",
    "fp=0; fn=0; tp=0; tn=0\n",
    "pred_classes = classes_prediction\n",
    "timestamp3 = curTime()\n",
    "pred = model.predict(features_prediction)\n",
    "timestamp4 = curTime()\n",
    "print(('TEST',classes[train_indexes].shape[0]-val, classes[valid_indexes].shape, pred_classes.shape))\n",
    "\n",
    "#print(pred_classes)\n",
    "#print(np.around(pred.flatten(),3))\n",
    "for i in range(pred.shape[0]):\n",
    "    if pred_classes[i]==0:\n",
    "        if pred[i]>0.5: fp+=1\n",
    "        else: tn+=1\n",
    "    else:\n",
    "        if pred[i]>0.5: tp+=1\n",
    "        else: fn+=1            \n",
    "\n",
    "# Sensitivity, hit rate, recall, or true positive rate\n",
    "tpr = tp/(tp+fn)\n",
    "# Fall out or false positive rate\n",
    "fpr = fp/(fp+tn)\n",
    "metrics = [fpr, tpr, (tp+tn)/(tn+tp+fp+fn)]\n",
    "print(\"FPS|TPR|BINARY-ACC\")\n",
    "print(np.around(metrics, 4))\n",
    "\n",
    "\n",
    "\n"
   ]
  },
  {
   "cell_type": "code",
   "execution_count": 6,
   "id": "0d6c12b9",
   "metadata": {
    "scrolled": true
   },
   "outputs": [
    {
     "name": "stdout",
     "output_type": "stream",
     "text": [
      "TEST FPS|TPR|BINARY-ACC\n",
      "0,0417 0,7292 0,8438\n",
      "\n",
      "Val - FPS|TPR|BINARY-ACC\n",
      "0,0244 1,0 0,9891\n",
      "(8595, 116)\n"
     ]
    }
   ],
   "source": [
    "#print(('TEST',kernel_size,classes[train_indexes].shape[0]-val, classes[valid_indexes].shape, pred_classes.shape))\n",
    "print('TEST FPS|TPR|BINARY-ACC')\n",
    "results = np.around(metrics,4)\n",
    "listToStr = ' '.join([str(elem) for elem in results])\n",
    "print(listToStr.replace(\".\",\",\"))\n",
    "fp=0; fn=0; tp=0; tn=0    \n",
    "if(True):\n",
    "    pred_classes = classes[valid_indexes]\n",
    "    pred = model.predict(features[valid_indexes])\n",
    "else:\n",
    "    pred_classes = classes[train_indexes]\n",
    "    pred = model.predict(features[train_indexes])\n",
    "#print(pred_classes)\n",
    "#print(np.around(pred.flatten(),3))\n",
    "for i in range(pred.shape[0]):\n",
    "    if pred_classes[i]==0:\n",
    "        if pred[i]>0.5: fp+=1\n",
    "        else: tn+=1\n",
    "    else:\n",
    "        if pred[i]>0.5: tp+=1\n",
    "        else: fn+=1            \n",
    "# Sensitivity, hit rate, recall, or true positive rate\n",
    "tpr = tp/(tp+fn)\n",
    "# Fall out or false positive rate\n",
    "fpr = fp/(fp+tn)\n",
    "metrics = [fpr, tpr, (tp+tn)/(tn+tp+fp+fn)]\n",
    "print(\"\\nVal - FPS|TPR|BINARY-ACC\")\n",
    "results = np.around(metrics,4)\n",
    "listToStr = ' '.join([str(elem) for elem in results])\n",
    "print(listToStr.replace(\".\",\",\"))\n",
    "\n",
    "print((timestamp2-timestamp1,timestamp4-timestamp3))"
   ]
  },
  {
   "cell_type": "code",
   "execution_count": 7,
   "id": "b8cf7b20",
   "metadata": {
    "scrolled": true
   },
   "outputs": [],
   "source": [
    "#         ================================================================================================\n",
    "#         =================================  Testing with same circuits ==================================\n",
    "#         ================================================================================================\n",
    "\n",
    "if val!=0:\n",
    "    fp=0; fn=0; tp=0; tn=0\n",
    "    pred_classes = classes[train_indexes[:val]]\n",
    "    pred = model.predict(features[train_indexes[:val]])\n",
    "    print((kernel_size, classes[train_indexes[:-val]].shape, classes[valid_indexes].shape, pred_classes.shape))\n",
    "    #print(pred_classes)\n",
    "    #print(np.around(pred.flatten(),3))\n",
    "    for i in range(pred.shape[0]):\n",
    "        if pred_classes[i]==0:\n",
    "            if pred[i]>0.5: fp+=1\n",
    "            else: tn+=1\n",
    "        else:\n",
    "            if pred[i]>0.5: tp+=1\n",
    "            else: fn+=1            \n",
    "\n",
    "    # Sensitivity, hit rate, recall, or true positive rate\n",
    "    tpr = tp/(tp+fn)\n",
    "    # Fall out or false positive rate\n",
    "    fpr = fp/(fp+tn)\n",
    "    metrics = [fpr, tpr, (tp+tn)/(tn+tp+fp+fn)]\n",
    "    print(\"FPS|TPR|BINARY-ACC\")\n",
    "    results = np.around(metrics, 4) \n",
    "    listToStr = ' '.join([str(elem) for elem in results])\n",
    "    print(listToStr.replace(\".\",\",\"))\n",
    "    \n",
    "    "
   ]
  }
 ],
 "metadata": {
  "kernelspec": {
   "display_name": "Python 3",
   "language": "python",
   "name": "python3"
  },
  "language_info": {
   "codemirror_mode": {
    "name": "ipython",
    "version": 3
   },
   "file_extension": ".py",
   "mimetype": "text/x-python",
   "name": "python",
   "nbconvert_exporter": "python",
   "pygments_lexer": "ipython3",
   "version": "3.6.13"
  }
 },
 "nbformat": 4,
 "nbformat_minor": 5
}
